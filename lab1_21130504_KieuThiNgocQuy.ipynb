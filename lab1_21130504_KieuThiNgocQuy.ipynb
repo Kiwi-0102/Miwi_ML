{
  "nbformat": 4,
  "nbformat_minor": 0,
  "metadata": {
    "colab": {
      "provenance": [],
      "authorship_tag": "ABX9TyODefyiPmvxT+btYcnAsy7x",
      "include_colab_link": true
    },
    "kernelspec": {
      "name": "python3",
      "display_name": "Python 3"
    },
    "language_info": {
      "name": "python"
    }
  },
  "cells": [
    {
      "cell_type": "markdown",
      "metadata": {
        "id": "view-in-github",
        "colab_type": "text"
      },
      "source": [
        "<a href=\"https://colab.research.google.com/github/Kiwi-0102/Miwi_ML/blob/main/lab1_21130504_KieuThiNgocQuy.ipynb\" target=\"_parent\"><img src=\"https://colab.research.google.com/assets/colab-badge.svg\" alt=\"Open In Colab\"/></a>"
      ]
    },
    {
      "cell_type": "code",
      "source": [
        "def Task1():\n",
        "    n = int(input(\"Enter the number of integers: \"))\n",
        "    L = []\n",
        "\n",
        "    for i in range(n):\n",
        "        num = int(input(f\"Enter integer number {i+1}: \"))\n",
        "        L.append(num)\n",
        "\n",
        "    max_element = max(L)\n",
        "    min_element = min(L)\n",
        "    sum_elements = sum(L)\n",
        "\n",
        "    print(f\"Max element in L: {max_element}\")\n",
        "    print(f\"Min element in L: {min_element}\")\n",
        "    print(f\"Sum of elements in L: {sum_elements}\")\n",
        "\n",
        "    L.sort()\n",
        "    print(\"Sorted list L:\", L)\n",
        "\n",
        "    positive_count = sum(1 for num in L if num > 0)\n",
        "    negative_count = sum(1 for num in L if num < 0)\n",
        "\n",
        "    print(f\"Number of positive elements in L: {positive_count}\")\n",
        "    print(f\"Number of negative elements in L: {negative_count}\")\n",
        "\n",
        "if __name__ == \"__Task1__\":\n",
        "    Task1()"
      ],
      "metadata": {
        "colab": {
          "base_uri": "https://localhost:8080/"
        },
        "id": "ai0ZxJzHEpW_",
        "outputId": "788f2181-313b-4d1c-d528-795a9c851395"
      },
      "execution_count": 25,
      "outputs": [
        {
          "output_type": "stream",
          "name": "stdout",
          "text": [
            "Enter the number of integers: 4\n",
            "Enter integer number 1: 40\n",
            "Enter integer number 2: 4\n",
            "Enter integer number 3: 4\n",
            "Enter integer number 4: 4\n",
            "Max element in L: 40\n",
            "Min element in L: 4\n",
            "Sum of elements in L: 52\n",
            "Sorted list L: [4, 4, 4, 40]\n",
            "Number of positive elements in L: 4\n",
            "Number of negative elements in L: 0\n"
          ]
        }
      ]
    },
    {
      "cell_type": "code",
      "source": [
        "def Task2(n):\n",
        "    re = 0\n",
        "    f = 1\n",
        "\n",
        "    for i in range(1, n+1):\n",
        "        f *= i\n",
        "        re += f\n",
        "\n",
        "    return re\n",
        "\n",
        "# Example usage:\n",
        "n = int(input(\"nhap n: \"))\n",
        "if n > 0:\n",
        "    print(\"S({}) = {}\".format(n, Task2(n)))\n",
        "else:\n",
        "    print(\"Hay nhap so duong.\")\n",
        "if __name__ == \"__Task1__\":\n",
        "    Task2()"
      ],
      "metadata": {
        "colab": {
          "base_uri": "https://localhost:8080/"
        },
        "id": "qYIA0oE6GYvx",
        "outputId": "593ae720-c490-4f07-ce31-3b4ac6cc1f78"
      },
      "execution_count": 28,
      "outputs": [
        {
          "output_type": "stream",
          "name": "stdout",
          "text": [
            "Enter a positive integer n: 4\n",
            "S(4) = 33\n"
          ]
        }
      ]
    },
    {
      "cell_type": "code",
      "source": [
        "class Account:\n",
        "    def __init__(self, name, country, posts, likes):\n",
        "        self.name = name\n",
        "        self.country = country\n",
        "        self.posts = posts\n",
        "        self.likes = likes\n",
        "\n",
        "    def __str__(self):\n",
        "        return f\"Name: {self.name}, Country: {self.country}, Posts: {self.posts}, Likes: {self.likes}\"\n",
        "\n",
        "class AccountManager:\n",
        "    def __init__(self):\n",
        "        self.accounts = []\n",
        "\n",
        "    def add_account(self, account):\n",
        "        self.accounts.append(account)\n",
        "\n",
        "    def get_max_like_post_by_friend(self):\n",
        "        max_likes = 0\n",
        "        max_account = None\n",
        "        for account in self.accounts:\n",
        "            if account.likes > max_likes:\n",
        "                max_likes = account.likes\n",
        "                max_account = account\n",
        "        return max_account\n",
        "\n",
        "    def group_accounts_by_post_like(self):\n",
        "        grouped_accounts = {\"false\": [], \"true\": []}\n",
        "        for account in self.accounts:\n",
        "            if account.posts < 10:\n",
        "                grouped_accounts[\"false\"].append(account)\n",
        "            else:\n",
        "                grouped_accounts[\"true\"].append(account)\n",
        "        return grouped_accounts\n",
        "\n",
        "    def filter_accounts(self, country):\n",
        "        filtered_accounts = [account for account in self.accounts if account.country == country]\n",
        "        filtered_accounts.sort(key=lambda x: (x.posts, x.name), reverse=True)\n",
        "        return filtered_accounts\n"
      ],
      "metadata": {
        "id": "5hn6843yHjwd"
      },
      "execution_count": 29,
      "outputs": []
    }
  ]
}